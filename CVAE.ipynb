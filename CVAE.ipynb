{
 "cells": [
  {
   "cell_type": "code",
   "execution_count": 1,
   "metadata": {},
   "outputs": [],
   "source": [
    "from __future__ import absolute_import, division, print_function, unicode_literals"
   ]
  },
  {
   "cell_type": "code",
   "execution_count": 2,
   "metadata": {},
   "outputs": [],
   "source": [
    "import tensorflow as tf\n",
    "import os\n",
    "import time\n",
    "import numpy as np\n",
    "import glob\n",
    "import matplotlib.pyplot as plt\n",
    "import PIL\n",
    "import imageio\n",
    "\n",
    "from IPython import display"
   ]
  },
  {
   "cell_type": "code",
   "execution_count": 3,
   "metadata": {},
   "outputs": [],
   "source": [
    "(train_images, train_labels), (test_images, test_labels) = tf.keras.datasets.mnist.load_data()"
   ]
  },
  {
   "cell_type": "code",
   "execution_count": 4,
   "metadata": {},
   "outputs": [
    {
     "name": "stdout",
     "output_type": "stream",
     "text": [
      "60000\n"
     ]
    }
   ],
   "source": [
    "print(len(train_labels))"
   ]
  },
  {
   "cell_type": "code",
   "execution_count": 5,
   "metadata": {},
   "outputs": [
    {
     "name": "stdout",
     "output_type": "stream",
     "text": [
      "train images shape is :  (60000, 28, 28, 1)\n",
      "train labels shape is :  (60000, 10)\n"
     ]
    }
   ],
   "source": [
    "train_images = train_images.reshape(train_images.shape[0], 28, 28, 1).astype('float32')\n",
    "test_images = test_images.reshape(test_images.shape[0], 28, 28, 1).astype('float32')\n",
    "\n",
    "# Normalizing the images to the range of [0., 1.]\n",
    "train_images /= 255.\n",
    "test_images /= 255.\n",
    "\n",
    "train_labels = train_labels.astype('float32')\n",
    "train_labels = tf.keras.utils.to_categorical(train_labels,10)\n",
    "test_labels = test_labels.astype('float32')\n",
    "test_labels = tf.keras.utils.to_categorical(test_labels,10)\n",
    "\n",
    "\n",
    "print('train images shape is : ', np.shape(train_images))\n",
    "print('train labels shape is : ', np.shape(train_labels))"
   ]
  },
  {
   "cell_type": "code",
   "execution_count": 6,
   "metadata": {},
   "outputs": [],
   "source": [
    "TRAIN_BUF = 60000 #same as image_size\n",
    "BATCH_SIZE = 100\n",
    "IMAGE_SIZE = 28\n",
    "TEST_BUF = 10000"
   ]
  },
  {
   "cell_type": "code",
   "execution_count": 7,
   "metadata": {},
   "outputs": [],
   "source": [
    "train_dataset = tf.data.Dataset.from_tensor_slices((train_images, train_labels)).shuffle(TRAIN_BUF).batch(BATCH_SIZE)\n",
    "test_dataset = tf.data.Dataset.from_tensor_slices((test_images, test_labels)).shuffle(TRAIN_BUF).batch(BATCH_SIZE)"
   ]
  },
  {
   "cell_type": "code",
   "execution_count": 8,
   "metadata": {},
   "outputs": [],
   "source": [
    "class CVAE(tf.keras.Model): #Inherit keras model class \n",
    "    def __init__(self, latent_dim, class_dim):\n",
    "        super(CVAE, self).__init__() #init keras model class, then can use keras model function here without prob.\n",
    "        self.latent_dim = latent_dim\n",
    "        self.class_dim = class_dim\n",
    "        self.generative_model = self.generative_net()\n",
    "        self.inference_model = self.inference_net()\n",
    "        \n",
    "    def inference_net(self):\n",
    "        x_in = tf.keras.layers.Input(shape=[IMAGE_SIZE,IMAGE_SIZE,1])\n",
    "        cond_in=tf.keras.layers.Input(shape=[10,])\n",
    "        \n",
    "        cond = tf.keras.layers.Reshape(target_shape=(1,1,10))(cond_in)\n",
    "        \n",
    "        cond_merge = tf.keras.layers.Lambda(tf.keras.backend.tile, arguments={'n':(1,IMAGE_SIZE,IMAGE_SIZE,1)})(cond)\n",
    "        concat = tf.keras.layers.Concatenate()\n",
    "        x_c = concat([x_in,cond_merge])\n",
    "        \n",
    "        conv1 = tf.keras.layers.Conv2D(\n",
    "                    filters=32, kernel_size=3, strides=(2,2), activation='relu')(x_c)\n",
    "        conv2 = tf.keras.layers.Conv2D(\n",
    "                    filters=64, kernel_size=3, strides=(2,2), activation='relu')(conv1)\n",
    "        flat_layer = tf.keras.layers.Flatten()(conv2)\n",
    "        inference_out = tf.keras.layers.Dense(latent_dim+latent_dim)(flat_layer) #mu and sigma\n",
    "        \n",
    "        \n",
    "        return tf.keras.Model(inputs=[x_in,cond_in], outputs=inference_out)\n",
    "    \n",
    "    \n",
    "    def generative_net(self):\n",
    "        \n",
    "        z_in = tf.keras.layers.Input(shape=[latent_dim,])\n",
    "        z = tf.keras.layers.Dense(7*7*32, activation=tf.nn.relu)(z_in)\n",
    "        z = tf.keras.layers.Reshape(target_shape=(7,7,32))(z)\n",
    "        \n",
    "        cond_in = tf.keras.layers.Input(shape=[10,])\n",
    "        cond = tf.keras.layers.Reshape(target_shape=(1,1,10))(cond_in)\n",
    "        cond_tile = tf.keras.layers.Lambda(tf.keras.backend.tile, arguments={'n':(1,7,7,1)})(cond)\n",
    "        \n",
    "        Concat = tf.keras.layers.Concatenate()\n",
    "        z_c = Concat([z, cond_tile])\n",
    "         \n",
    "        convt1 = tf.keras.layers.Conv2DTranspose(\n",
    "                    filters=64, kernel_size=3, strides=(2,2),padding=\"SAME\",activation='relu')(z_c)\n",
    "        convt2 = tf.keras.layers.Conv2DTranspose(\n",
    "                    filters=64, kernel_size=3, strides=(2,2), padding=\"SAME\", activation='relu')(convt1)\n",
    "        out = tf.keras.layers.Conv2DTranspose(\n",
    "                    filters=1, kernel_size=3, strides=(1,1), padding=\"SAME\")(convt2)\n",
    "       \n",
    "        return tf.keras.Model(inputs=[z_in,cond_in], outputs=out)\n",
    "        \n",
    "    @tf.function\n",
    "    def sample(self, cond, eps=None):\n",
    "        if eps is None:\n",
    "            eps = tf.random.normal(shape=(BATCH_SIZE,self.latent_dim))\n",
    "        return self.decode(eps, cond, apply_sigmoid=True)\n",
    "\n",
    "    def encode(self, x, cond):\n",
    "        mean, logvar = tf.split(self.inference_model([x,cond]), num_or_size_splits=2, axis=1)\n",
    "        return mean, logvar\n",
    "\n",
    "    def reparameterize(self, mean, logvar):\n",
    "        eps = tf.random.normal(shape=mean.shape)\n",
    "        return eps*tf.exp(logvar * .5)+mean\n",
    "\n",
    "    \n",
    "    def decode(self,z,cond,apply_sigmoid=False):\n",
    "        logits = self.generative_model([z, cond])\n",
    "\n",
    "        if apply_sigmoid:\n",
    "            probs = tf.sigmoid(logits)\n",
    "            \n",
    "            return probs\n",
    "\n",
    "        return logits\n",
    "        "
   ]
  },
  {
   "cell_type": "code",
   "execution_count": 9,
   "metadata": {},
   "outputs": [],
   "source": [
    "optimizer = tf.keras.optimizers.Adam(1e-3, beta_1=0.0, beta_2 = 0.99)\n",
    "\n",
    "def log_normal_pdf(sample, mean, logvar, raxis=1):\n",
    "    log2pi = tf.math.log(2.*np.pi)\n",
    "    return tf.reduce_sum(-.5*((sample-mean)**2. * tf.exp(-logvar)+ logvar + log2pi), axis=raxis)\n",
    "\n",
    "@tf.function\n",
    "def compute_loss(model,x, cond):\n",
    "    \n",
    "    #build model\n",
    "    mean, logvar = model.encode(x, cond)\n",
    "    z = model.reparameterize(mean, logvar)  \n",
    "    x_logit = model.decode(z, cond)\n",
    "    cross_ent = tf.nn.sigmoid_cross_entropy_with_logits(logits=x_logit, labels=x)\n",
    "    logpx_z = -tf.reduce_sum(cross_ent, axis=[1,2,3])\n",
    "    logpz = log_normal_pdf(z, 0., 0.)\n",
    "    logqz_x = log_normal_pdf(z, mean, logvar)\n",
    "    \n",
    "    return -tf.reduce_mean(logpx_z +logpz - logqz_x)\n",
    "\n",
    "@tf.function\n",
    "def compute_apply_gradients(model, x, cond, optimizer):\n",
    "    with tf.GradientTape() as tape:\n",
    "        loss = compute_loss(model, x, cond)\n",
    "        gradients = tape.gradient(loss, model.trainable_variables)\n",
    "        optimizer.apply_gradients(zip(gradients, model.trainable_variables))\n",
    "    "
   ]
  },
  {
   "cell_type": "code",
   "execution_count": 10,
   "metadata": {},
   "outputs": [],
   "source": [
    "epochs = 100\n",
    "latent_dim = 50\n",
    "class_dim = 10\n",
    "\n",
    "num_examples_to_generate = 16\n",
    "\n",
    "random_vector_for_generation = tf.random.normal(shape = [num_examples_to_generate, latent_dim])\n",
    "random_vector_labels = np.asarray([0,1,2,3,4,5,6,7,8,9,8,7,6,5,4,3]).astype(float)\n",
    "random_vector_labels = tf.keras.utils.to_categorical(random_vector_labels,10)\n",
    "\n",
    "model = CVAE(latent_dim,class_dim)\n"
   ]
  },
  {
   "cell_type": "code",
   "execution_count": 11,
   "metadata": {},
   "outputs": [],
   "source": [
    "def generate_and_save_images(model, epoch, test_input, test_cond):\n",
    "    \n",
    "    predictions = model.sample(test_cond, test_input)\n",
    "    fig = plt.figure(figsize=(4,4))\n",
    "\n",
    "    for i in range(predictions.shape[0]):\n",
    "        plt.subplot(4, 4, i+1)\n",
    "        plt.imshow(predictions[i, :, :, 0], cmap='gray')\n",
    "        plt.axis('off')\n",
    "\n",
    "    # tight_layout minimizes the overlap between 2 sub-plots\n",
    "    plt.savefig('./test_img/image_at_epoch_{:04d}.png'.format(epoch))\n",
    "    plt.show()\n"
   ]
  },
  {
   "cell_type": "code",
   "execution_count": 12,
   "metadata": {
    "scrolled": true
   },
   "outputs": [
    {
     "name": "stdout",
     "output_type": "stream",
     "text": [
      "Epoch: 100, Test set ELBO: -93.2023696899414, time elapse for current epoch 3.6555020809173584\n"
     ]
    },
    {
     "data": {
      "image/png": "[encoded data removed]",
      "text/plain": [
       "<Figure size 288x288 with 16 Axes>"
      ]
     },
     "metadata": {
      "needs_background": "light"
     },
     "output_type": "display_data"
    }
   ],
   "source": [
    "generate_and_save_images(model, 0, random_vector_for_generation, random_vector_labels)\n",
    "for epoch in range(1, epochs + 1):\n",
    "    start_time = time.time()\n",
    "    for (train_x, train_labels) in train_dataset:\n",
    "        \n",
    "        compute_apply_gradients(model, train_x, train_labels, optimizer)\n",
    "        end_time = time.time()\n",
    "\n",
    "    if epoch % 1 == 0:\n",
    "        loss = tf.keras.metrics.Mean()\n",
    "        for (test_x, test_labels) in test_dataset:\n",
    "            \n",
    "            loss(compute_loss(model, test_x, test_labels))\n",
    "            \n",
    "            \n",
    "        elbo = -loss.result()\n",
    "        \n",
    "        display.clear_output(wait=True)  \n",
    "        print('Epoch: {}, Test set ELBO: {}, '\n",
    "              'time elapse for current epoch {}'.format(epoch,\n",
    "                                                        elbo,\n",
    "                                                        end_time - start_time))\n",
    "        \n",
    "        generate_and_save_images(model, epoch, random_vector_for_generation, random_vector_labels)"
   ]
  },
  {
   "cell_type": "code",
   "execution_count": 13,
   "metadata": {},
   "outputs": [],
   "source": [
    "anim_file = './test_img/cvae.gif'\n",
    "\n",
    "with imageio.get_writer(anim_file, mode='I') as writer:\n",
    "    filenames = glob.glob('./test_img/image*.png')\n",
    "    filenames = sorted(filenames)\n",
    "    last = -1\n",
    "    for i,filename in enumerate(filenames):\n",
    "        frame = 2*(i**0.5)\n",
    "        if round(frame) > round(last):\n",
    "            last = frame\n",
    "        else:\n",
    "            continue\n",
    "        \n",
    "        image = imageio.imread(filename)\n",
    "        writer.append_data(image)\n",
    "        \n",
    "    image = imageio.imread(filename)\n",
    "    writer.append_data(image)\n",
    "\n",
    "import IPython\n",
    "if IPython.version_info >= (6,2,0,''):\n",
    "    display.Image(filename=anim_file)"
   ]
  },
  {
   "cell_type": "code",
   "execution_count": null,
   "metadata": {},
   "outputs": [],
   "source": []
  }
 ],
 "metadata": {
  "kernelspec": {
   "display_name": "Python 3",
   "language": "python",
   "name": "python3"
  },
  "language_info": {
   "codemirror_mode": {
    "name": "ipython",
    "version": 3
   },
   "file_extension": ".py",
   "mimetype": "text/x-python",
   "name": "python",
   "nbconvert_exporter": "python",
   "pygments_lexer": "ipython3",
   "version": "3.6.8"
  }
 },
 "nbformat": 4,
 "nbformat_minor": 2
}
